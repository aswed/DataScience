{
 "cells": [
  {
   "cell_type": "markdown",
   "metadata": {},
   "source": [
    "# PCA - Principal Component Analysis"
   ]
  },
  {
   "cell_type": "markdown",
   "metadata": {},
   "source": [
    "## Wstęp"
   ]
  },
  {
   "cell_type": "markdown",
   "metadata": {},
   "source": [
    "**PCA** jest jedną z ważnych metod pozwalających na redukcję wymiarowości danych.\n",
    "\n",
    "Korzystając z dość prostych operacji macierzowych i statystyki pozwala na wykonanie projekcji danych oryginalnych na taką samą lub mniejszą liczbę wymiarów. \n",
    "\n",
    "Wymiarowość danych to nic innego jak liczba cech/atrybutów, które w tych danych występują. Upraszczając, zakładając, że mamy zbiór danych z 10 kolumnami i chcemy te dane zwizualizować, żeby np.: wykryć potencjalne grupy podobieństw, chcielibyśmy w jakiś sposób zamienić te 10 kolumn na 2 kolumny. Jest to właśnie nic innego jak redukcja wymiarowości z 10 na 2."
   ]
  },
  {
   "cell_type": "markdown",
   "metadata": {},
   "source": [
    "## Podstawy teoretyczne"
   ]
  },
  {
   "cell_type": "markdown",
   "metadata": {},
   "source": [
    "**PCA** jest operacją wykonywaną na macierzy o *n* wierszach i *m* kolumnach, gdzie *n* oznacza liczbę rekordów w danych, a *m* liczbę cech dla naszego zbioru."
   ]
  },
  {
   "cell_type": "markdown",
   "metadata": {},
   "source": [
    "$$A = \\begin{bmatrix} a_{11} & a_{12} \\\\ a_{21} & a_{22} \\\\ \\end{bmatrix}$$\n",
    "\n",
    "$$B = PCA(A)$$"
   ]
  },
  {
   "cell_type": "markdown",
   "metadata": {},
   "source": [
    "W kolejnych krokach, w miarę wyjaśniania zasad działania **PCA** będę też tworzył implementację funkcji."
   ]
  },
  {
   "cell_type": "code",
   "execution_count": 18,
   "metadata": {},
   "outputs": [
    {
     "name": "stdout",
     "output_type": "stream",
     "text": [
      "[[ 1  3]\n",
      " [ 3  3]\n",
      " [10 11]\n",
      " [11 13]]\n",
      "[[ 1  3]\n",
      " [ 3  3]\n",
      " [10 11]\n",
      " [11 13]]\n"
     ]
    }
   ],
   "source": [
    "import numpy as np\n",
    "\n",
    "def PCA(A):\n",
    "    B = A\n",
    "    return B\n",
    "\n",
    "A = np.matrix('1 3; 3 3; 10 11; 11 13') \n",
    "print(A)\n",
    "B = PCA(A)\n",
    "print(B)"
   ]
  },
  {
   "cell_type": "markdown",
   "metadata": {},
   "source": [
    "W pierwszym kroku działania, **PCA** liczy średnią arytmetyczną dla kolumn.\n",
    "\n",
    "$$ M = \\begin{bmatrix} mean(a_{n1}) & mean(a_{n2}) \\end{bmatrix}$$"
   ]
  },
  {
   "cell_type": "code",
   "execution_count": 19,
   "metadata": {},
   "outputs": [
    {
     "name": "stdout",
     "output_type": "stream",
     "text": [
      "[[6.25 7.5 ]]\n"
     ]
    }
   ],
   "source": [
    "def PCA(A):\n",
    "    M = np.mean(A, axis = 0)\n",
    "    \n",
    "    return M \n",
    "    \n",
    "B = PCA(A)\n",
    "print(B)"
   ]
  },
  {
   "cell_type": "markdown",
   "metadata": {},
   "source": [
    "Następnie centrujemy dane w każdej kolumnie odejmując od oryginalnych wartości policzoną średnią:\n",
    "$$ C = A - M$$"
   ]
  },
  {
   "cell_type": "code",
   "execution_count": 20,
   "metadata": {},
   "outputs": [
    {
     "name": "stdout",
     "output_type": "stream",
     "text": [
      "[[-5.25 -4.5 ]\n",
      " [-3.25 -4.5 ]\n",
      " [ 3.75  3.5 ]\n",
      " [ 4.75  5.5 ]]\n"
     ]
    }
   ],
   "source": [
    "def PCA(A):\n",
    "    M = np.mean(A, axis = 0)\n",
    "    \n",
    "    C = A - M\n",
    "    \n",
    "    return C\n",
    "    \n",
    "B = PCA(A)\n",
    "print(B)"
   ]
  },
  {
   "cell_type": "markdown",
   "metadata": {},
   "source": [
    "Kolejną czynnością jest policzenie macierzy kowariancji zcentrowanej macierzy *C*. "
   ]
  },
  {
   "cell_type": "code",
   "execution_count": 21,
   "metadata": {},
   "outputs": [
    {
     "name": "stdout",
     "output_type": "stream",
     "text": [
      "[[ 0.28125 -0.46875 -0.09375  0.28125]\n",
      " [-0.46875  0.78125  0.15625 -0.46875]\n",
      " [-0.09375  0.15625  0.03125 -0.09375]\n",
      " [ 0.28125 -0.46875 -0.09375  0.28125]]\n"
     ]
    }
   ],
   "source": [
    "print(np.cov(B))"
   ]
  }
 ],
 "metadata": {
  "kernelspec": {
   "display_name": "Python 3",
   "language": "python",
   "name": "python3"
  },
  "language_info": {
   "codemirror_mode": {
    "name": "ipython",
    "version": 3
   },
   "file_extension": ".py",
   "mimetype": "text/x-python",
   "name": "python",
   "nbconvert_exporter": "python",
   "pygments_lexer": "ipython3",
   "version": "3.7.3"
  },
  "toc": {
   "base_numbering": 1,
   "nav_menu": {},
   "number_sections": true,
   "sideBar": true,
   "skip_h1_title": false,
   "title_cell": "Table of Contents",
   "title_sidebar": "Contents",
   "toc_cell": false,
   "toc_position": {},
   "toc_section_display": true,
   "toc_window_display": false
  }
 },
 "nbformat": 4,
 "nbformat_minor": 2
}
